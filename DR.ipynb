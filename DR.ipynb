{
 "cells": [
  {
   "cell_type": "code",
   "execution_count": 1,
   "metadata": {},
   "outputs": [],
   "source": [
    "import tensorflow as tf"
   ]
  },
  {
   "cell_type": "markdown",
   "metadata": {},
   "source": [
    "Sorting Train Images Into Classes"
   ]
  },
  {
   "cell_type": "code",
   "execution_count": 2,
   "metadata": {},
   "outputs": [
    {
     "name": "stdout",
     "output_type": "stream",
     "text": [
      "Image sorting complete.\n"
     ]
    }
   ],
   "source": [
    "import pandas as pd\n",
    "import os\n",
    "import shutil\n",
    "\n",
    "# Directory containing your PNG images\n",
    "image_dir = 'C://Users/91934/Music/UROP/dataset/train_images/train_images'\n",
    "\n",
    "# Full path to your CSV file\n",
    "csv_file_path = 'C://Users/91934/Music/UROP/dataset/train_1.csv'\n",
    "\n",
    "# Output directory where class folders will be created\n",
    "output_dir = 'C://Users/91934/Music/UROP/dataset/sub_train'\n",
    "\n",
    "# Function to create a subdirectory if it doesn't exist\n",
    "def create_directory_if_not_exists(directory):\n",
    "    if not os.path.exists(directory):\n",
    "        os.makedirs(directory)\n",
    "\n",
    "# Read the CSV file into a DataFrame\n",
    "data = pd.read_csv(csv_file_path)\n",
    "\n",
    "# Iterate through the DataFrame and organize images\n",
    "for index, row in data.iterrows():\n",
    "    image_filename = row['id_code'] + '.png'  # Append the '.png' extension\n",
    "    class_label = row['diagnosis']\n",
    "    image_path = os.path.join(image_dir, image_filename)\n",
    "    class_directory = os.path.join(output_dir, str(class_label))\n",
    "\n",
    "    create_directory_if_not_exists(class_directory)\n",
    "\n",
    "    # Move or copy the image to the class directory\n",
    "    shutil.copy(image_path, os.path.join(class_directory, image_filename))\n",
    "\n",
    "print(\"Image sorting complete.\")\n"
   ]
  },
  {
   "cell_type": "markdown",
   "metadata": {},
   "source": [
    "Sorting Validation Images Into Classes"
   ]
  },
  {
   "cell_type": "code",
   "execution_count": 1,
   "metadata": {},
   "outputs": [
    {
     "name": "stdout",
     "output_type": "stream",
     "text": [
      "Image sorting complete.\n"
     ]
    }
   ],
   "source": [
    "import pandas as pd\n",
    "import os\n",
    "import shutil\n",
    "\n",
    "# Directory containing your PNG images\n",
    "image_dir = 'C://Users/91934/Music/UROP/dataset/val_images/val_images/'\n",
    "\n",
    "# Full path to your CSV file\n",
    "csv_file_path = 'C://Users/91934/Music/UROP/dataset/valid.csv'\n",
    "\n",
    "# Output directory where class folders will be created\n",
    "output_dir = 'C://Users/91934/Music/UROP/dataset/sub_valid'\n",
    "\n",
    "# Function to create a subdirectory if it doesn't exist\n",
    "def create_directory_if_not_exists(directory):\n",
    "    if not os.path.exists(directory):\n",
    "        os.makedirs(directory)\n",
    "\n",
    "# Read the CSV file into a DataFrame\n",
    "data = pd.read_csv(csv_file_path)\n",
    "\n",
    "# Iterate through the DataFrame and organize images\n",
    "for index, row in data.iterrows():\n",
    "    image_filename = row['id_code'] + '.png'  # Append the '.png' extension\n",
    "    class_label = row['diagnosis']\n",
    "    image_path = os.path.join(image_dir, image_filename)\n",
    "    class_directory = os.path.join(output_dir, str(class_label))\n",
    "\n",
    "    create_directory_if_not_exists(class_directory)\n",
    "\n",
    "    # Move or copy the image to the class directory\n",
    "    shutil.copy(image_path, os.path.join(class_directory, image_filename))\n",
    "\n",
    "print(\"Image sorting complete.\")\n"
   ]
  },
  {
   "cell_type": "markdown",
   "metadata": {},
   "source": [
    "Test Images Sorting "
   ]
  },
  {
   "cell_type": "code",
   "execution_count": 1,
   "metadata": {},
   "outputs": [
    {
     "name": "stdout",
     "output_type": "stream",
     "text": [
      "Image sorting complete.\n"
     ]
    }
   ],
   "source": [
    "import pandas as pd\n",
    "import os\n",
    "import shutil\n",
    "\n",
    "# Directory containing your PNG images\n",
    "image_dir = 'C://Users/91934/Music/UROP/dataset/test_images/test_images/'\n",
    "\n",
    "# Full path to your CSV file\n",
    "csv_file_path = 'C://Users/91934/Music/UROP/dataset/test.csv'\n",
    "\n",
    "# Output directory where class folders will be created\n",
    "output_dir = 'C://Users/91934/Music/UROP/dataset/sub_test'\n",
    "\n",
    "# Function to create a subdirectory if it doesn't exist\n",
    "def create_directory_if_not_exists(directory):\n",
    "    if not os.path.exists(directory):\n",
    "        os.makedirs(directory)\n",
    "\n",
    "# Read the CSV file into a DataFrame\n",
    "data = pd.read_csv(csv_file_path)\n",
    "\n",
    "# Iterate through the DataFrame and organize images\n",
    "for index, row in data.iterrows():\n",
    "    image_filename = row['id_code'] + '.png'  # Append the '.png' extension\n",
    "    class_label = row['diagnosis']\n",
    "    image_path = os.path.join(image_dir, image_filename)\n",
    "    class_directory = os.path.join(output_dir, str(class_label))\n",
    "\n",
    "    create_directory_if_not_exists(class_directory)\n",
    "\n",
    "    # Move or copy the image to the class directory\n",
    "    shutil.copy(image_path, os.path.join(class_directory, image_filename))\n",
    "\n",
    "print(\"Image sorting complete.\")\n"
   ]
  },
  {
   "cell_type": "markdown",
   "metadata": {},
   "source": [
    "Preprocessing Train Images"
   ]
  },
  {
   "cell_type": "code",
   "execution_count": 4,
   "metadata": {},
   "outputs": [
    {
     "name": "stdout",
     "output_type": "stream",
     "text": [
      "Resized 1434 images in class 0 to (332, 332)\n",
      "Resized 300 images in class 1 to (332, 332)\n",
      "Resized 808 images in class 2 to (332, 332)\n",
      "Resized 154 images in class 3 to (332, 332)\n",
      "Resized 234 images in class 4 to (332, 332)\n"
     ]
    }
   ],
   "source": [
    "from PIL import Image, ImageOps\n",
    "import os\n",
    "import shutil\n",
    "\n",
    "# Directory where the class-wise subfolders are located\n",
    "base_dir = 'C://Users/91934/Music/UROP/dataset'\n",
    "subtrain_dir = 'c://Users/91934/Music/UROP/dataset/sub_train/'\n",
    "\n",
    "# Target size for resizing\n",
    "target_size = (332, 332)\n",
    "\n",
    "# Create a directory to store resized images\n",
    "resized_dir = 'resized_images_final'\n",
    "\n",
    "if os.path.exists(resized_dir):\n",
    "    shutil.rmtree(resized_dir)\n",
    "    print(f\"Directory '{resized_dir}' has been deleted.\")\n",
    "os.makedirs(resized_dir, exist_ok=True)\n",
    "\n",
    "# List all subdirectories (each representing a class)\n",
    "class_dirs = [os.path.join(subtrain_dir, subdir) for subdir in os.listdir(subtrain_dir) if os.path.isdir(os.path.join(subtrain_dir, subdir))]\n",
    "\n",
    "for class_dir in class_dirs:\n",
    "    class_name = os.path.basename(class_dir)  # Get the class name from the folder name\n",
    "\n",
    "    # Create a subdirectory in the resized_dir for each class\n",
    "    class_resized_dir = os.path.join(resized_dir, class_name)\n",
    "    os.makedirs(class_resized_dir, exist_ok=True)\n",
    "\n",
    "    image_filenames = os.listdir(class_dir)\n",
    "\n",
    "    for img_filename in image_filenames:\n",
    "        img_path = os.path.join(class_dir, img_filename)\n",
    "        image = Image.open(img_path)\n",
    "\n",
    "        resized_image = ImageOps.fit(image, target_size, Image.LANCZOS)\n",
    "\n",
    "        # Define the path to save the resized image in the class-specific folder\n",
    "        save_path = os.path.join(class_resized_dir, img_filename)\n",
    "\n",
    "        # Save the resized image\n",
    "        resized_image.save(save_path)\n",
    "\n",
    "    print(f\"Resized {len(image_filenames)} images in class {class_name} to {target_size}\")\n"
   ]
  }
 ],
 "metadata": {
  "kernelspec": {
   "display_name": "Python 3",
   "language": "python",
   "name": "python3"
  },
  "language_info": {
   "codemirror_mode": {
    "name": "ipython",
    "version": 3
   },
   "file_extension": ".py",
   "mimetype": "text/x-python",
   "name": "python",
   "nbconvert_exporter": "python",
   "pygments_lexer": "ipython3",
   "version": "3.10.2"
  }
 },
 "nbformat": 4,
 "nbformat_minor": 2
}
