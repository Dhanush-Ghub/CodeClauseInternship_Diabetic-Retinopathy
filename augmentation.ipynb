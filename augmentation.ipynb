{
 "cells": [
  {
   "cell_type": "code",
   "execution_count": 2,
   "metadata": {},
   "outputs": [],
   "source": [
    "import tensorflow as tf\n",
    "from keras.models import Sequential, Model\n",
    "from keras.layers import Dense, Dropout, Flatten, Conv2D, MaxPooling2D, Input, concatenate\n",
    "import numpy as np\n",
    "import pandas as pd \n",
    "import matplotlib.pyplot as plt"
   ]
  },
  {
   "cell_type": "markdown",
   "metadata": {},
   "source": [
    "Augmentation for Train class 3 images"
   ]
  },
  {
   "cell_type": "code",
   "execution_count": 7,
   "metadata": {},
   "outputs": [
    {
     "name": "stdout",
     "output_type": "stream",
     "text": [
      "Data augmentation completed.\n"
     ]
    }
   ],
   "source": [
    "import os\n",
    "import numpy as np\n",
    "from tensorflow.keras.preprocessing.image import ImageDataGenerator\n",
    "from tensorflow.keras.utils import img_to_array, array_to_img, load_img\n",
    "\n",
    "# Define the augmentation parameters\n",
    "datagen = ImageDataGenerator(\n",
    "    rotation_range=20,\n",
    "    width_shift_range=0.2,\n",
    "    height_shift_range=0.2,\n",
    "    shear_range=0.2,\n",
    "    zoom_range=0.2,\n",
    "    horizontal_flip=True,\n",
    "    fill_mode='nearest'\n",
    ")\n",
    "\n",
    "# Set batch size and steps to generate 5 augmented images per input image\n",
    "batch_size = 5\n",
    "steps = 4\n",
    "\n",
    "# Specify the source and destination directories\n",
    "source_directory = 'C:/Users/91934/Music/UROP/implement/resized3/'  # Use forward slash here\n",
    "destination_directory = 'aug3'\n",
    "\n",
    "# Ensure the destination directory exists\n",
    "if not os.path.exists(destination_directory):\n",
    "    os.makedirs(destination_directory)\n",
    "\n",
    "# List all class subdirectories in the source directory\n",
    "class_directories = [d for d in os.listdir(source_directory) if os.path.isdir(os.path.join(source_directory, d))]\n",
    "\n",
    "# Apply data augmentation to each image in each class directory\n",
    "for class_dir in class_directories:\n",
    "    class_source_dir = os.path.join(source_directory, class_dir)\n",
    "    class_destination_dir = os.path.join(destination_directory, class_dir)\n",
    "\n",
    "    # Ensure the class destination directory exists\n",
    "    if not os.path.exists(class_destination_dir):\n",
    "        os.makedirs(class_destination_dir)\n",
    "\n",
    "    # List all image files in the class source directory\n",
    "    image_files = [f for f in os.listdir(class_source_dir) if f.lower().endswith('.png')]\n",
    "\n",
    "    for image_file in image_files:\n",
    "        img = load_img(os.path.join(class_source_dir, image_file))\n",
    "        x = img_to_array(img)\n",
    "        x = np.expand_dims(x, axis=0)\n",
    "\n",
    "        for i in range(steps):\n",
    "            augmented_images = datagen.flow(x, batch_size=batch_size)\n",
    "            for j in range(batch_size):\n",
    "                augmented_image = array_to_img(augmented_images.next()[0])\n",
    "                augmented_image_path = os.path.join(class_destination_dir, f'augmented_{image_file.split(\".\")[0]}_{i*batch_size + j}.jpg')\n",
    "                augmented_image.save(augmented_image_path)\n",
    "                \n",
    "                if i * batch_size + j >= 4:  # Stop after generating 5 images per input\n",
    "                    break\n",
    "\n",
    "# Print a completion message\n",
    "print(\"Data augmentation completed.\")\n"
   ]
  },
  {
   "cell_type": "markdown",
   "metadata": {},
   "source": [
    "Augmentation for Train class 4 images"
   ]
  },
  {
   "cell_type": "code",
   "execution_count": 1,
   "metadata": {},
   "outputs": [
    {
     "name": "stdout",
     "output_type": "stream",
     "text": [
      "Data augmentation completed.\n"
     ]
    }
   ],
   "source": [
    "import os\n",
    "import numpy as np\n",
    "from tensorflow.keras.preprocessing.image import ImageDataGenerator\n",
    "from tensorflow.keras.utils import img_to_array, array_to_img, load_img\n",
    "\n",
    "# Define the augmentation parameters\n",
    "datagen = ImageDataGenerator(\n",
    "    rotation_range=20,\n",
    "    width_shift_range=0.2,\n",
    "    height_shift_range=0.2,\n",
    "    shear_range=0.2,\n",
    "    zoom_range=0.2,\n",
    "    horizontal_flip=True,\n",
    "    fill_mode='nearest'\n",
    ")\n",
    "\n",
    "# Set batch size and steps to generate 5 augmented images per input image\n",
    "batch_size = 5\n",
    "steps = 1\n",
    "\n",
    "# Specify the source and destination directories\n",
    "source_directory = 'C:/Users/91934/Music/UROP/implement/resized4/'  # Use forward slash here\n",
    "destination_directory = 'aug4'\n",
    "\n",
    "# Ensure the destination directory exists\n",
    "if not os.path.exists(destination_directory):\n",
    "    os.makedirs(destination_directory)\n",
    "\n",
    "# List all class subdirectories in the source directory\n",
    "class_directories = [d for d in os.listdir(source_directory) if os.path.isdir(os.path.join(source_directory, d))]\n",
    "\n",
    "# Apply data augmentation to each image in each class directory\n",
    "for class_dir in class_directories:\n",
    "    class_source_dir = os.path.join(source_directory, class_dir)\n",
    "    class_destination_dir = os.path.join(destination_directory, class_dir)\n",
    "\n",
    "    # Ensure the class destination directory exists\n",
    "    if not os.path.exists(class_destination_dir):\n",
    "        os.makedirs(class_destination_dir)\n",
    "\n",
    "    # List all image files in the class source directory\n",
    "    image_files = [f for f in os.listdir(class_source_dir) if f.lower().endswith('.png')]\n",
    "\n",
    "    for image_file in image_files:\n",
    "        img = load_img(os.path.join(class_source_dir, image_file))\n",
    "        x = img_to_array(img)\n",
    "        x = np.expand_dims(x, axis=0)\n",
    "\n",
    "        for i in range(steps):\n",
    "            augmented_images = datagen.flow(x, batch_size=batch_size)\n",
    "            for j in range(batch_size):\n",
    "                augmented_image = array_to_img(augmented_images.next()[0])\n",
    "                augmented_image_path = os.path.join(class_destination_dir, f'augmented_{image_file.split(\".\")[0]}_{i*batch_size + j}.jpg')\n",
    "                augmented_image.save(augmented_image_path)\n",
    "                \n",
    "                if i * batch_size + j >= 4:  # Stop after generating 5 images per input\n",
    "                    break\n",
    "\n",
    "# Print a completion message\n",
    "print(\"Data augmentation completed.\")\n"
   ]
  },
  {
   "cell_type": "markdown",
   "metadata": {},
   "source": [
    "Augmentation for Train class 2 images"
   ]
  },
  {
   "cell_type": "code",
   "execution_count": 2,
   "metadata": {},
   "outputs": [
    {
     "name": "stdout",
     "output_type": "stream",
     "text": [
      "Data augmentation completed.\n"
     ]
    }
   ],
   "source": [
    "import os\n",
    "import numpy as np\n",
    "from tensorflow.keras.preprocessing.image import ImageDataGenerator\n",
    "from tensorflow.keras.utils import img_to_array, array_to_img, load_img\n",
    "\n",
    "# Define the augmentation parameters\n",
    "datagen = ImageDataGenerator(\n",
    "    rotation_range=20,\n",
    "    width_shift_range=0.2,\n",
    "    height_shift_range=0.2,\n",
    "    shear_range=0.2,\n",
    "    zoom_range=0.2,\n",
    "    horizontal_flip=True,\n",
    "    fill_mode='nearest'\n",
    ")\n",
    "\n",
    "# Set the desired number of images to generate per input image (half the original)\n",
    "desired_images_per_input = 2\n",
    "\n",
    "# Specify the source and destination directories\n",
    "source_directory = 'C:/Users/91934/Music/UROP/implement/resized2/'  # Use forward slash here\n",
    "destination_directory = 'aug2'\n",
    "\n",
    "# Ensure the destination directory exists\n",
    "if not os.path.exists(destination_directory):\n",
    "    os.makedirs(destination_directory)\n",
    "\n",
    "# List all class subdirectories in the source directory\n",
    "class_directories = [d for d in os.listdir(source_directory) if os.path.isdir(os.path.join(source_directory, d))]\n",
    "\n",
    "# Apply data augmentation to each image in each class directory\n",
    "for class_dir in class_directories:\n",
    "    class_source_dir = os.path.join(source_directory, class_dir)\n",
    "    class_destination_dir = os.path.join(destination_directory, class_dir)\n",
    "\n",
    "    # Ensure the class destination directory exists\n",
    "    if not os.path.exists(class_destination_dir):\n",
    "        os.makedirs(class_destination_dir)\n",
    "\n",
    "    # List all image files in the class source directory\n",
    "    image_files = [f for f in os.listdir(class_source_dir) if f.lower().endswith('.png')]\n",
    "    \n",
    "    # Calculate the number of images to generate (half the original number)\n",
    "    num_images_to_generate = len(image_files) // 2\n",
    "\n",
    "    for image_file in image_files:\n",
    "        img = load_img(os.path.join(class_source_dir, image_file))\n",
    "        x = img_to_array(img)\n",
    "        x = np.expand_dims(x, axis=0)\n",
    "\n",
    "        for _ in range(num_images_to_generate):\n",
    "            augmented_images = datagen.flow(x, batch_size=1)\n",
    "            augmented_image = array_to_img(augmented_images.next()[0])\n",
    "            \n",
    "            # Generate a unique identifier for each augmented image\n",
    "            unique_id = f\"{num_images_to_generate:03d}\"\n",
    "            num_images_to_generate -= 1\n",
    "            \n",
    "            augmented_image_path = os.path.join(class_destination_dir, f'augmented_{image_file.split(\".\")[0]}_{unique_id}.jpg')\n",
    "            augmented_image.save(augmented_image_path)\n",
    "\n",
    "# Print a completion message\n",
    "print(\"Data augmentation completed.\")\n"
   ]
  },
  {
   "cell_type": "markdown",
   "metadata": {},
   "source": [
    "Augmentation for Train class 1 images"
   ]
  },
  {
   "cell_type": "code",
   "execution_count": 1,
   "metadata": {},
   "outputs": [
    {
     "name": "stdout",
     "output_type": "stream",
     "text": [
      "Data augmentation completed.\n"
     ]
    }
   ],
   "source": [
    "import os\n",
    "import numpy as np\n",
    "from tensorflow.keras.preprocessing.image import ImageDataGenerator\n",
    "from tensorflow.keras.utils import img_to_array, array_to_img, load_img\n",
    "\n",
    "# Define the augmentation parameters\n",
    "datagen = ImageDataGenerator(\n",
    "    rotation_range=20,\n",
    "    width_shift_range=0.2,\n",
    "    height_shift_range=0.2,\n",
    "    shear_range=0.2,\n",
    "    zoom_range=0.2,\n",
    "    horizontal_flip=True,\n",
    "    fill_mode='nearest'\n",
    ")\n",
    "\n",
    "# Set batch size and steps to generate 3 augmented images per input image\n",
    "batch_size = 3\n",
    "steps = 1\n",
    "\n",
    "# Specify the source and destination directories\n",
    "source_directory = 'C:/Users/91934/Music/UROP/implement/resized1/'  # Use forward slash here\n",
    "destination_directory = 'aug1'\n",
    "\n",
    "# Ensure the destination directory exists\n",
    "if not os.path.exists(destination_directory):\n",
    "    os.makedirs(destination_directory)\n",
    "\n",
    "# List all class subdirectories in the source directory\n",
    "class_directories = [d for d in os.listdir(source_directory) if os.path.isdir(os.path.join(source_directory, d))]\n",
    "\n",
    "# Apply data augmentation to each image in each class directory\n",
    "for class_dir in class_directories:\n",
    "    class_source_dir = os.path.join(source_directory, class_dir)\n",
    "    class_destination_dir = os.path.join(destination_directory, class_dir)\n",
    "\n",
    "    # Ensure the class destination directory exists\n",
    "    if not os.path.exists(class_destination_dir):\n",
    "        os.makedirs(class_destination_dir)\n",
    "\n",
    "    # List all image files in the class source directory\n",
    "    image_files = [f for f in os.listdir(class_source_dir) if f.lower().endswith('.png')]\n",
    "\n",
    "    for image_file in image_files:\n",
    "        img = load_img(os.path.join(class_source_dir, image_file))\n",
    "        x = img_to_array(img)\n",
    "        x = np.expand_dims(x, axis=0)\n",
    "\n",
    "        for i in range(steps):\n",
    "            augmented_images = datagen.flow(x, batch_size=batch_size)\n",
    "            for j in range(batch_size):\n",
    "                augmented_image = array_to_img(augmented_images.next()[0])\n",
    "                augmented_image_path = os.path.join(class_destination_dir, f'augmented_{image_file.split(\".\")[0]}_{i*batch_size + j}.jpg')\n",
    "                augmented_image.save(augmented_image_path)\n",
    "                \n",
    "                if i * batch_size + j >= 2:  # Stop after generating 4 images per input\n",
    "                    break\n",
    "\n",
    "# Print a completion message\n",
    "print(\"Data augmentation completed.\")\n"
   ]
  },
  {
   "cell_type": "code",
   "execution_count": 1,
   "metadata": {},
   "outputs": [
    {
     "name": "stdout",
     "output_type": "stream",
     "text": [
      "Subdirectory 'class0' contains 1434 image(s).\n",
      "Subdirectory 'class1' contains 900 image(s).\n",
      "Subdirectory 'class2' contains 404 image(s).\n",
      "Subdirectory 'class3' contains 1232 image(s).\n",
      "Subdirectory 'class4' contains 1170 image(s).\n"
     ]
    }
   ],
   "source": [
    "import os\n",
    "\n",
    "# Directory path to search for subdirectories\n",
    "directory_path = 'C:/Users/91934/Music/UROP/implement/augmented/train/'\n",
    "\n",
    "# File extensions to count (you can add more if needed)\n",
    "extensions = ['.jpg', '.png']\n",
    "\n",
    "# Function to count the number of image files in a directory\n",
    "def count_images_in_directory(dir_path):\n",
    "    image_count = 0\n",
    "    for root, _, files in os.walk(dir_path):\n",
    "        for file in files:\n",
    "            if any(file.lower().endswith(ext) for ext in extensions):\n",
    "                image_count += 1\n",
    "    return image_count\n",
    "\n",
    "# Iterate through subdirectories and print the counts\n",
    "for subdir in os.listdir(directory_path):\n",
    "    subdir_path = os.path.join(directory_path, subdir)\n",
    "    if os.path.isdir(subdir_path):\n",
    "        image_count = count_images_in_directory(subdir_path)\n",
    "        print(f\"Subdirectory '{subdir}' contains {image_count} image(s).\")\n"
   ]
  },
  {
   "cell_type": "markdown",
   "metadata": {},
   "source": [
    "ResNet 50"
   ]
  },
  {
   "cell_type": "code",
   "execution_count": 1,
   "metadata": {},
   "outputs": [
    {
     "name": "stdout",
     "output_type": "stream",
     "text": [
      "Found 5740 images belonging to 5 classes.\n",
      "Found 366 images belonging to 5 classes.\n",
      "Downloading data from https://storage.googleapis.com/tensorflow/keras-applications/resnet/resnet50_weights_tf_dim_ordering_tf_kernels_notop.h5\n",
      "94765736/94765736 [==============================] - 1000s 11us/step\n",
      "Epoch 1/10\n",
      "180/180 [==============================] - 2564s 14s/step - loss: 0.9031 - accuracy: 0.6467 - val_loss: 1.6381 - val_accuracy: 0.4699\n",
      "Epoch 2/10\n",
      "180/180 [==============================] - 2299s 13s/step - loss: 0.5706 - accuracy: 0.7542 - val_loss: 6.2716 - val_accuracy: 0.2842\n",
      "Epoch 3/10\n",
      "180/180 [==============================] - 1861s 10s/step - loss: 0.4558 - accuracy: 0.8143 - val_loss: 7.1543 - val_accuracy: 0.2842\n",
      "Epoch 4/10\n",
      "180/180 [==============================] - 1696s 9s/step - loss: 0.3883 - accuracy: 0.8378 - val_loss: 4.2345 - val_accuracy: 0.1093\n",
      "Epoch 5/10\n",
      "180/180 [==============================] - 1699s 9s/step - loss: 0.3872 - accuracy: 0.8469 - val_loss: 6.9997 - val_accuracy: 0.4235\n",
      "Epoch 6/10\n",
      "180/180 [==============================] - 1703s 9s/step - loss: 0.3301 - accuracy: 0.8624 - val_loss: 6.6686 - val_accuracy: 0.4754\n",
      "Epoch 7/10\n",
      "180/180 [==============================] - 1724s 10s/step - loss: 0.2520 - accuracy: 0.8995 - val_loss: 3.6375 - val_accuracy: 0.5546\n",
      "Epoch 8/10\n",
      "180/180 [==============================] - 1724s 10s/step - loss: 0.2225 - accuracy: 0.9200 - val_loss: 3.9579 - val_accuracy: 0.3934\n",
      "Epoch 9/10\n",
      "180/180 [==============================] - 1726s 10s/step - loss: 0.1791 - accuracy: 0.9315 - val_loss: 4.0847 - val_accuracy: 0.5246\n",
      "Epoch 10/10\n",
      "180/180 [==============================] - 1654s 9s/step - loss: 0.1460 - accuracy: 0.9453 - val_loss: 5.1141 - val_accuracy: 0.3989\n"
     ]
    },
    {
     "name": "stderr",
     "output_type": "stream",
     "text": [
      "c:\\Python\\Python310\\lib\\site-packages\\keras\\src\\engine\\training.py:3079: UserWarning: You are saving your model as an HDF5 file via `model.save()`. This file format is considered legacy. We recommend using instead the native Keras format, e.g. `model.save('my_model.keras')`.\n",
      "  saving_api.save_model(\n"
     ]
    }
   ],
   "source": [
    "import tensorflow as tf\n",
    "from tensorflow.keras.applications import ResNet50  # Change this import\n",
    "from tensorflow.keras import layers, models\n",
    "from tensorflow.keras.preprocessing.image import ImageDataGenerator\n",
    "\n",
    "# Define paths for your train and validation data directories\n",
    "train_data_dir = r'C:\\Users\\91934\\Music\\UROP\\implement\\augmented\\train'\n",
    "val_data_dir = r'C:\\Users\\91934\\Music\\UROP\\dataset\\sub_valid'\n",
    "\n",
    "num_classes = 5  # Replace with the number of classes in your dataset\n",
    "\n",
    "# Load and preprocess images from directories without any preprocessing or augmentation\n",
    "batch_size = 32\n",
    "train_datagen = ImageDataGenerator(rescale=1.0/255.0)  # Only rescale for training\n",
    "val_datagen = ImageDataGenerator(rescale=1.0/255.0)  # Only rescale for validation\n",
    "\n",
    "train_generator = train_datagen.flow_from_directory(\n",
    "    train_data_dir,\n",
    "    target_size=(224, 224),\n",
    "    batch_size=batch_size,\n",
    "    class_mode='categorical'\n",
    ")\n",
    "\n",
    "val_generator = val_datagen.flow_from_directory(\n",
    "    val_data_dir,\n",
    "    target_size=(224, 224),\n",
    "    batch_size=batch_size,\n",
    "    class_mode='categorical'\n",
    ")\n",
    "\n",
    "# Load the ResNet-50 model with pre-trained weights (change here)\n",
    "base_model = ResNet50(weights='imagenet', include_top=False, input_shape=(224, 224, 3))  # Change to ResNet50\n",
    "\n",
    "# Add custom classification layers\n",
    "x = layers.GlobalAveragePooling2D()(base_model.output)\n",
    "x = layers.Dense(512, activation='relu')(x)\n",
    "predictions = layers.Dense(num_classes, activation='softmax')(x)\n",
    "\n",
    "model = models.Model(inputs=base_model.input, outputs=predictions)\n",
    "\n",
    "# Compile the model\n",
    "model.compile(optimizer='adam', loss='categorical_crossentropy', metrics=['accuracy'])\n",
    "\n",
    "# Train the model\n",
    "model.fit(train_generator, epochs=10, validation_data=val_generator)\n",
    "\n",
    "# Save the trained model\n",
    "model.save('resnet50_custom_model.h5')  # Update the model file name\n"
   ]
  },
  {
   "cell_type": "markdown",
   "metadata": {},
   "source": [
    "Renaming for Augmented images"
   ]
  },
  {
   "cell_type": "code",
   "execution_count": 25,
   "metadata": {},
   "outputs": [
    {
     "name": "stdout",
     "output_type": "stream",
     "text": [
      "Images have been renamed in serial order in the directory: C:/Users/91934/Music/UROP/implement/augmented/train/0/\n",
      "Images have been renamed in serial order in the directory: C:/Users/91934/Music/UROP/implement/augmented/train/1/\n",
      "Images have been renamed in serial order in the directory: C:/Users/91934/Music/UROP/implement/augmented/train/2/\n",
      "Images have been renamed in serial order in the directory: C:/Users/91934/Music/UROP/implement/augmented/train/3/\n",
      "Images have been renamed in serial order in the directory: C:/Users/91934/Music/UROP/implement/augmented/train/4/\n"
     ]
    }
   ],
   "source": [
    "import os\n",
    "\n",
    "def rename_images_serially_in_directories(directories):\n",
    "    for directory in directories:\n",
    "        # List all files in the directory\n",
    "        files = os.listdir(directory)\n",
    "\n",
    "        # Sort the files to ensure they are processed in order\n",
    "        files.sort()\n",
    "\n",
    "        # Iterate through each file and rename it\n",
    "        for index, file_name in enumerate(files, start=1):\n",
    "            # Keep the original file extension\n",
    "            file_base, file_extension = os.path.splitext(file_name)\n",
    "\n",
    "            # Construct the new file name\n",
    "            new_file_name = f\"image{index}{file_extension}\"\n",
    "\n",
    "            # Construct the full paths for the old and new file names\n",
    "            old_path = os.path.join(directory, file_name)\n",
    "            new_path = os.path.join(directory, new_file_name)\n",
    "\n",
    "            # Check if the new file name already exists\n",
    "            if not os.path.exists(new_path):\n",
    "                # Rename the file\n",
    "                os.rename(old_path, new_path)\n",
    "            else:\n",
    "                print(f\"File '{new_file_name}' already exists in {directory}. Skipping.\")\n",
    "\n",
    "        print(f\"Images have been renamed in serial order in the directory: {directory}\")\n",
    "\n",
    "# Example usage\n",
    "directory_paths = [\n",
    "    \"C:/Users/91934/Music/UROP/implement/augmented/train/0/\",\n",
    "    \"C:/Users/91934/Music/UROP/implement/augmented/train/1/\",\n",
    "    \"C:/Users/91934/Music/UROP/implement/augmented/train/2/\",\n",
    "    \"C:/Users/91934/Music/UROP/implement/augmented/train/3/\",\n",
    "    \"C:/Users/91934/Music/UROP/implement/augmented/train/4/\"\n",
    "]\n",
    "\n",
    "rename_images_serially_in_directories(directory_paths)\n"
   ]
  },
  {
   "cell_type": "markdown",
   "metadata": {},
   "source": [
    "Adding class lables to image names in augmented train images"
   ]
  },
  {
   "cell_type": "code",
   "execution_count": 26,
   "metadata": {},
   "outputs": [
    {
     "name": "stdout",
     "output_type": "stream",
     "text": [
      "Created destination folder: C:/Users/91934/Music/UROP/implement/augmented/train/renamed0/\n",
      "Renamed files from C:/Users/91934/Music/UROP/implement/augmented/train/0/ with prefix '0_' have been copied to C:/Users/91934/Music/UROP/implement/augmented/train/renamed0/.\n",
      "Created destination folder: C:/Users/91934/Music/UROP/implement/augmented/train/renamed1/\n",
      "Renamed files from C:/Users/91934/Music/UROP/implement/augmented/train/1/ with prefix '1_' have been copied to C:/Users/91934/Music/UROP/implement/augmented/train/renamed1/.\n",
      "Created destination folder: C:/Users/91934/Music/UROP/implement/augmented/train/renamed2/\n",
      "Renamed files from C:/Users/91934/Music/UROP/implement/augmented/train/2/ with prefix '2_' have been copied to C:/Users/91934/Music/UROP/implement/augmented/train/renamed2/.\n",
      "Created destination folder: C:/Users/91934/Music/UROP/implement/augmented/train/renamed3/\n",
      "Renamed files from C:/Users/91934/Music/UROP/implement/augmented/train/3/ with prefix '3_' have been copied to C:/Users/91934/Music/UROP/implement/augmented/train/renamed3/.\n",
      "Created destination folder: C:/Users/91934/Music/UROP/implement/augmented/train/renamed4/\n",
      "Renamed files from C:/Users/91934/Music/UROP/implement/augmented/train/4/ with prefix '4_' have been copied to C:/Users/91934/Music/UROP/implement/augmented/train/renamed4/.\n"
     ]
    }
   ],
   "source": [
    "import os\n",
    "\n",
    "# Dictionary of source folders, their corresponding destination folders, and prefixes\n",
    "folder_mapping ={\n",
    "\"C:/Users/91934/Music/UROP/implement/augmented/train/0/\":{'destination':\"C:/Users/91934/Music/UROP/implement/augmented/train/renamed0/\",'prefix':'0_'},\n",
    "\"C:/Users/91934/Music/UROP/implement/augmented/train/1/\":{'destination':\"C:/Users/91934/Music/UROP/implement/augmented/train/renamed1/\",'prefix':'1_'},\n",
    "\"C:/Users/91934/Music/UROP/implement/augmented/train/2/\":{'destination':\"C:/Users/91934/Music/UROP/implement/augmented/train/renamed2/\",'prefix':'2_'},\n",
    "\"C:/Users/91934/Music/UROP/implement/augmented/train/3/\":{'destination':\"C:/Users/91934/Music/UROP/implement/augmented/train/renamed3/\",'prefix':'3_'},\n",
    "\"C:/Users/91934/Music/UROP/implement/augmented/train/4/\":{'destination':\"C:/Users/91934/Music/UROP/implement/augmented/train/renamed4/\",'prefix':'4_'}\n",
    "}\n",
    "\n",
    "# Iterate through each source-destination-prefix triplet\n",
    "for source_folder, config in folder_mapping.items():\n",
    "    # Create the destination folder if it doesn't exist\n",
    "    destination_folder = config['destination']\n",
    "    if not os.path.exists(destination_folder):\n",
    "        os.makedirs(destination_folder)\n",
    "        print(f\"Created destination folder: {destination_folder}\")\n",
    "\n",
    "    # List all files in the current source folder\n",
    "    files = os.listdir(source_folder)\n",
    "\n",
    "    # Iterate through each file and rename it\n",
    "    prefix = config['prefix']\n",
    "    for file_name in files:\n",
    "        # Create the new file name by adding the specified prefix\n",
    "        new_file_name = prefix + file_name\n",
    "\n",
    "        # Construct the full paths for the old and new file names\n",
    "        old_path = os.path.join(source_folder, file_name)\n",
    "        new_path = os.path.join(destination_folder, new_file_name)\n",
    "\n",
    "        # Copy the file to the destination folder with the new name\n",
    "        with open(old_path, 'rb') as old_file:\n",
    "            with open(new_path, 'wb') as new_file:\n",
    "                new_file.write(old_file.read())\n",
    "\n",
    "    print(f\"Renamed files from {source_folder} with prefix '{prefix}' have been copied to {destination_folder}.\")\n"
   ]
  },
  {
   "cell_type": "markdown",
   "metadata": {},
   "source": [
    "Adding class lables to image names in original train images"
   ]
  },
  {
   "cell_type": "code",
   "execution_count": 20,
   "metadata": {},
   "outputs": [
    {
     "name": "stdout",
     "output_type": "stream",
     "text": [
      "Created destination folder: C:/Users/91934/Music/UROP/dataset/sub_train/renamed1/\n",
      "Renamed files from C:/Users/91934/Music/UROP/dataset/sub_train/1/ with prefix '1_' have been copied to C:/Users/91934/Music/UROP/dataset/sub_train/renamed1/.\n",
      "Created destination folder: C:/Users/91934/Music/UROP/dataset/sub_train/renamed2/\n",
      "Renamed files from C:/Users/91934/Music/UROP/dataset/sub_train/2/ with prefix '2_' have been copied to C:/Users/91934/Music/UROP/dataset/sub_train/renamed2/.\n",
      "Created destination folder: C:/Users/91934/Music/UROP/dataset/sub_train/renamed3/\n",
      "Renamed files from C:/Users/91934/Music/UROP/dataset/sub_train/3/ with prefix '3_' have been copied to C:/Users/91934/Music/UROP/dataset/sub_train/renamed3/.\n",
      "Created destination folder: C:/Users/91934/Music/UROP/dataset/sub_train/renamed4/\n",
      "Renamed files from C:/Users/91934/Music/UROP/dataset/sub_train/4/ with prefix '4_' have been copied to C:/Users/91934/Music/UROP/dataset/sub_train/renamed4/.\n"
     ]
    }
   ],
   "source": [
    "import os\n",
    "\n",
    "# Dictionary of source folders, their corresponding destination folders, and prefixes\n",
    "folder_mapping ={\n",
    "\"C:/Users/91934/Music/UROP/dataset/sub_train/1/\":{'destination':\"C:/Users/91934/Music/UROP/dataset/sub_train/renamed1/\",'prefix':'1_'},\n",
    "\"C:/Users/91934/Music/UROP/dataset/sub_train/2/\":{'destination':\"C:/Users/91934/Music/UROP/dataset/sub_train/renamed2/\",'prefix':'2_'},\n",
    "\"C:/Users/91934/Music/UROP/dataset/sub_train/3/\":{'destination':\"C:/Users/91934/Music/UROP/dataset/sub_train/renamed3/\",'prefix':'3_'},\n",
    "\"C:/Users/91934/Music/UROP/dataset/sub_train/4/\":{'destination':\"C:/Users/91934/Music/UROP/dataset/sub_train/renamed4/\",'prefix':'4_'}\n",
    "}\n",
    "\n",
    "# Iterate through each source-destination-prefix triplet\n",
    "for source_folder, config in folder_mapping.items():\n",
    "    # Create the destination folder if it doesn't exist\n",
    "    destination_folder = config['destination']\n",
    "    if not os.path.exists(destination_folder):\n",
    "        os.makedirs(destination_folder)\n",
    "        print(f\"Created destination folder: {destination_folder}\")\n",
    "\n",
    "    # List all files in the current source folder\n",
    "    files = os.listdir(source_folder)\n",
    "\n",
    "    # Iterate through each file and rename it\n",
    "    prefix = config['prefix']\n",
    "    for file_name in files:\n",
    "        # Create the new file name by adding the specified prefix\n",
    "        new_file_name = prefix + file_name\n",
    "\n",
    "        # Construct the full paths for the old and new file names\n",
    "        old_path = os.path.join(source_folder, file_name)\n",
    "        new_path = os.path.join(destination_folder, new_file_name)\n",
    "\n",
    "        # Copy the file to the destination folder with the new name\n",
    "        with open(old_path, 'rb') as old_file:\n",
    "            with open(new_path, 'wb') as new_file:\n",
    "                new_file.write(old_file.read())\n",
    "\n",
    "    print(f\"Renamed files from {source_folder} with prefix '{prefix}' have been copied to {destination_folder}.\")\n"
   ]
  },
  {
   "cell_type": "markdown",
   "metadata": {},
   "source": [
    "Separating required number of images in augmented train images"
   ]
  },
  {
   "cell_type": "code",
   "execution_count": 31,
   "metadata": {},
   "outputs": [
    {
     "name": "stdout",
     "output_type": "stream",
     "text": [
      "Destination directory 'C:/Users/91934/Music/UROP/implement/augmented/req_train/0/' created for C:/Users/91934/Music/UROP/implement/augmented/train/renamed0/.\n",
      "Destination directory 'C:/Users/91934/Music/UROP/implement/augmented/req_train/2/' created for C:/Users/91934/Music/UROP/implement/augmented/train/renamed2/.\n",
      "Destination directory 'C:/Users/91934/Music/UROP/implement/augmented/req_train/3/' created for C:/Users/91934/Music/UROP/implement/augmented/train/renamed3/.\n",
      "Destination directory 'C:/Users/91934/Music/UROP/implement/augmented/req_train/4/' created for C:/Users/91934/Music/UROP/implement/augmented/train/renamed4/.\n"
     ]
    }
   ],
   "source": [
    "import os\n",
    "import shutil\n",
    "import random\n",
    "\n",
    "def separate_images(source_dest_dict, num_images_dict):\n",
    "    for source_dir, destination_dir in source_dest_dict.items():\n",
    "        # Ensure the source directory exists\n",
    "        if not os.path.exists(source_dir):\n",
    "            print(f\"Source directory '{source_dir}' does not exist. Skipping.\")\n",
    "            continue\n",
    "\n",
    "        # Create the destination directory if it doesn't exist\n",
    "        os.makedirs(destination_dir, exist_ok=True)\n",
    "        print(f\"Destination directory '{destination_dir}' created for {source_dir}.\")\n",
    "\n",
    "        # Get a list of all files in the source directory\n",
    "        all_files = os.listdir(source_dir)\n",
    "\n",
    "        # Filter only image files (you can modify this based on your needs)\n",
    "        image_files = [f for f in all_files if f.lower().endswith(('.png', '.jpg', '.jpeg'))]\n",
    "\n",
    "        # Check if there are enough images based on the dictionary\n",
    "        if source_dir in num_images_dict:\n",
    "            num_images = num_images_dict[source_dir]\n",
    "            if len(image_files) < num_images:\n",
    "                print(f\"Not enough images in the source directory '{source_dir}'. Found {len(image_files)}, required {num_images}. Skipping.\")\n",
    "                continue\n",
    "        else:\n",
    "            print(f\"Number of images not specified for the source directory '{source_dir}'. Skipping.\")\n",
    "            continue\n",
    "\n",
    "        # Randomly select num_images from the list\n",
    "        selected_images = random.sample(image_files, num_images)\n",
    "\n",
    "        # Copy selected images to the destination directory\n",
    "        for img in selected_images:\n",
    "            source_path = os.path.join(source_dir, img)\n",
    "            destination_path = os.path.join(destination_dir, img)\n",
    "            shutil.copyfile(source_path, destination_path)\n",
    "\n",
    "# Example usage\n",
    "source_dest_directories = {\"C:/Users/91934/Music/UROP/implement/augmented/train/renamed0/\": \"C:/Users/91934/Music/UROP/implement/augmented/req_train/0/\",\n",
    "                           \"C:/Users/91934/Music/UROP/implement/augmented/train/renamed2/\": \"C:/Users/91934/Music/UROP/implement/augmented/req_train/2/\",\n",
    "                           \"C:/Users/91934/Music/UROP/implement/augmented/train/renamed3/\": \"C:/Users/91934/Music/UROP/implement/augmented/req_train/3/\",\n",
    "                           \"C:/Users/91934/Music/UROP/implement/augmented/train/renamed4/\": \"C:/Users/91934/Music/UROP/implement/augmented/req_train/4/\"}\n",
    "\n",
    "num_images_dict = {\"C:/Users/91934/Music/UROP/implement/augmented/train/renamed0/\":1200,\"C:/Users/91934/Music/UROP/implement/augmented/train/renamed2/\":400,\n",
    "                   \"C:/Users/91934/Music/UROP/implement/augmented/train/renamed3/\":1050,\"C:/Users/91934/Music/UROP/implement/augmented/train/renamed4/\":970}\n",
    "\n",
    "separate_images(source_dest_directories, num_images_dict)\n"
   ]
  },
  {
   "cell_type": "markdown",
   "metadata": {},
   "source": [
    "Division of Augmented train images"
   ]
  },
  {
   "cell_type": "code",
   "execution_count": 2,
   "metadata": {},
   "outputs": [
    {
     "name": "stdout",
     "output_type": "stream",
     "text": [
      "Images have been divided into 10 subdirectories for each subdirectory.\n"
     ]
    }
   ],
   "source": [
    "import os\n",
    "import shutil\n",
    "import random\n",
    "\n",
    "# Main directory with subdirectories containing images\n",
    "main_directory = \"C:/Users/91934/Music/UROP/implement/augmented/req_train/\"  # Change to your main directory path\n",
    "\n",
    "# Create 10 subdirectories for each subdirectory in the main directory\n",
    "for subdir in os.listdir(main_directory):\n",
    "    subdir_path = os.path.join(main_directory, subdir)\n",
    "    if os.path.isdir(subdir_path):\n",
    "        for i in range(1, 11):\n",
    "            new_subdirectory = os.path.join(subdir_path, f'subdir_{i}')\n",
    "            os.makedirs(new_subdirectory, exist_ok=True)\n",
    "\n",
    "        # List all image files in the subdirectory\n",
    "        image_files = [f for f in os.listdir(subdir_path) if f.lower().endswith(('.jpg','.png'))]\n",
    "\n",
    "        # Randomly shuffle the image files\n",
    "        random.shuffle(image_files)\n",
    "\n",
    "        # Calculate the number of images per new subdirectory\n",
    "        images_per_new_subdirectory = len(image_files) // 10\n",
    "\n",
    "        # Copy images to the new subdirectories\n",
    "        for i in range(1, 11):\n",
    "            new_subdirectory = os.path.join(subdir_path, f'subdir_{i}')\n",
    "            images_to_copy = image_files[(i - 1) * images_per_new_subdirectory: i * images_per_new_subdirectory]\n",
    "\n",
    "            for image_file in images_to_copy:\n",
    "                source_path = os.path.join(subdir_path, image_file)\n",
    "                destination_path = os.path.join(new_subdirectory, image_file)\n",
    "                shutil.copy2(source_path, destination_path)\n",
    "\n",
    "print(\"Images have been divided into 10 subdirectories for each subdirectory.\")\n"
   ]
  },
  {
   "cell_type": "markdown",
   "metadata": {},
   "source": [
    "Division of validation images"
   ]
  },
  {
   "cell_type": "code",
   "execution_count": 1,
   "metadata": {},
   "outputs": [
    {
     "name": "stdout",
     "output_type": "stream",
     "text": [
      "Images have been divided into 10 subdirectories for each subdirectory.\n"
     ]
    }
   ],
   "source": [
    "import os\n",
    "import shutil\n",
    "import random\n",
    "\n",
    "# Main directory with subdirectories containing images\n",
    "main_directory = \"C:/Users/91934/Music/UROP/dataset/sub_valid/\"  # Change to your main directory path\n",
    "\n",
    "# Create 10 subdirectories for each subdirectory in the main directory\n",
    "for subdir in os.listdir(main_directory):\n",
    "    subdir_path = os.path.join(main_directory, subdir)\n",
    "    if os.path.isdir(subdir_path):\n",
    "        for i in range(1, 11):\n",
    "            new_subdirectory = os.path.join(subdir_path, f'subdir_{i}')\n",
    "            os.makedirs(new_subdirectory, exist_ok=True)\n",
    "\n",
    "        # List all image files in the subdirectory\n",
    "        image_files = [f for f in os.listdir(subdir_path) if f.lower().endswith(('.jpg','.png'))]\n",
    "\n",
    "        # Randomly shuffle the image files\n",
    "        random.shuffle(image_files)\n",
    "\n",
    "        # Calculate the number of images per new subdirectory\n",
    "        images_per_new_subdirectory = len(image_files) // 10\n",
    "\n",
    "        # Copy images to the new subdirectories\n",
    "        for i in range(1, 11):\n",
    "            new_subdirectory = os.path.join(subdir_path, f'subdir_{i}')\n",
    "            images_to_copy = image_files[(i - 1) * images_per_new_subdirectory: i * images_per_new_subdirectory]\n",
    "\n",
    "            for image_file in images_to_copy:\n",
    "                source_path = os.path.join(subdir_path, image_file)\n",
    "                destination_path = os.path.join(new_subdirectory, image_file)\n",
    "                shutil.copy2(source_path, destination_path)\n",
    "\n",
    "print(\"Images have been divided into 10 subdirectories for each subdirectory.\")\n"
   ]
  },
  {
   "cell_type": "markdown",
   "metadata": {},
   "source": [
    "Division of test images"
   ]
  },
  {
   "cell_type": "code",
   "execution_count": 1,
   "metadata": {},
   "outputs": [
    {
     "name": "stdout",
     "output_type": "stream",
     "text": [
      "Images have been divided into 10 subdirectories for each subdirectory.\n"
     ]
    }
   ],
   "source": [
    "import os\n",
    "import shutil\n",
    "import random\n",
    "\n",
    "# Main directory with subdirectories containing images\n",
    "main_directory = \"C:/Users/91934/Music/UROP/dataset/sub_test/\"  # Change to your main directory path\n",
    "\n",
    "# Create 10 subdirectories for each subdirectory in the main directory\n",
    "for subdir in os.listdir(main_directory):\n",
    "    subdir_path = os.path.join(main_directory, subdir)\n",
    "    if os.path.isdir(subdir_path):\n",
    "        for i in range(1, 11):\n",
    "            new_subdirectory = os.path.join(subdir_path, f'subdir_{i}')\n",
    "            os.makedirs(new_subdirectory, exist_ok=True)\n",
    "\n",
    "        # List all image files in the subdirectory\n",
    "        image_files = [f for f in os.listdir(subdir_path) if f.lower().endswith(('.jpg','.png'))]\n",
    "\n",
    "        # Randomly shuffle the image files\n",
    "        random.shuffle(image_files)\n",
    "\n",
    "        # Calculate the number of images per new subdirectory\n",
    "        images_per_new_subdirectory = len(image_files) // 10\n",
    "\n",
    "        # Copy images to the new subdirectories\n",
    "        for i in range(1, 11):\n",
    "            new_subdirectory = os.path.join(subdir_path, f'subdir_{i}')\n",
    "            images_to_copy = image_files[(i - 1) * images_per_new_subdirectory: i * images_per_new_subdirectory]\n",
    "\n",
    "            for image_file in images_to_copy:\n",
    "                source_path = os.path.join(subdir_path, image_file)\n",
    "                destination_path = os.path.join(new_subdirectory, image_file)\n",
    "                shutil.copy2(source_path, destination_path)\n",
    "\n",
    "print(\"Images have been divided into 10 subdirectories for each subdirectory.\")\n"
   ]
  },
  {
   "cell_type": "markdown",
   "metadata": {},
   "source": [
    "Division of original train images"
   ]
  },
  {
   "cell_type": "code",
   "execution_count": 3,
   "metadata": {},
   "outputs": [
    {
     "name": "stdout",
     "output_type": "stream",
     "text": [
      "Images have been divided into 10 subdirectories for each subdirectory.\n"
     ]
    }
   ],
   "source": [
    "import os\n",
    "import shutil\n",
    "import random\n",
    "\n",
    "# Main directory with subdirectories containing images\n",
    "main_directory = \"C:/Users/91934/Music/UROP/dataset/sub_train/namelabeld/\"  # Change to your main directory path\n",
    "\n",
    "# Create 10 subdirectories for each subdirectory in the main directory\n",
    "for subdir in os.listdir(main_directory):\n",
    "    subdir_path = os.path.join(main_directory, subdir)\n",
    "    if os.path.isdir(subdir_path):\n",
    "        for i in range(1, 11):\n",
    "            new_subdirectory = os.path.join(subdir_path, f'subdir_{i}')\n",
    "            os.makedirs(new_subdirectory, exist_ok=True)\n",
    "\n",
    "        # List all image files in the subdirectory\n",
    "        image_files = [f for f in os.listdir(subdir_path) if f.lower().endswith(('.jpg', '.png'))]\n",
    "\n",
    "        # Randomly shuffle the image files\n",
    "        random.shuffle(image_files)\n",
    "\n",
    "        # Calculate the number of images per new subdirectory\n",
    "        images_per_new_subdirectory = len(image_files) // 10\n",
    "\n",
    "        # Copy images to the new subdirectories\n",
    "        for i in range(1, 11):\n",
    "            new_subdirectory = os.path.join(subdir_path, f'subdir_{i}')\n",
    "            images_to_copy = image_files[(i - 1) * images_per_new_subdirectory: i * images_per_new_subdirectory]\n",
    "\n",
    "            for image_file in images_to_copy:\n",
    "                source_path = os.path.join(subdir_path, image_file)\n",
    "                destination_path = os.path.join(new_subdirectory, image_file)\n",
    "                shutil.copy2(source_path, destination_path)\n",
    "\n",
    "print(\"Images have been divided into 10 subdirectories for each subdirectory.\")\n"
   ]
  }
 ],
 "metadata": {
  "kernelspec": {
   "display_name": "Python 3",
   "language": "python",
   "name": "python3"
  },
  "language_info": {
   "codemirror_mode": {
    "name": "ipython",
    "version": 3
   },
   "file_extension": ".py",
   "mimetype": "text/x-python",
   "name": "python",
   "nbconvert_exporter": "python",
   "pygments_lexer": "ipython3",
   "version": "3.10.2"
  }
 },
 "nbformat": 4,
 "nbformat_minor": 2
}
